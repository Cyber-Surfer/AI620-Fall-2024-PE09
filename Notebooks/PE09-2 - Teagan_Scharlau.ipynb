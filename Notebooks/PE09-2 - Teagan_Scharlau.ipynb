{
 "cells": [
  {
   "cell_type": "code",
   "execution_count": 2,
   "metadata": {
    "tags": []
   },
   "outputs": [],
   "source": [
    "import os\n",
    "import shutil\n",
    "import sagemaker.amazon.common as smac    \n",
    "from sagemaker.amazon.amazon_estimator import get_image_uri\n",
    "import sagemaker\n",
    "from sagemaker import get_execution_role\n",
    "import boto3\n"
   ]
  },
  {
   "cell_type": "code",
   "execution_count": 3,
   "metadata": {
    "tags": []
   },
   "outputs": [
    {
     "name": "stdout",
     "output_type": "stream",
     "text": [
      "Requirement already satisfied: setuptools==65.6.0 in /home/ec2-user/anaconda3/envs/python3/lib/python3.10/site-packages (65.6.0)\n"
     ]
    }
   ],
   "source": [
    "#Navidate to deep-ar directory to install the deepar package containing commonly used functions\n",
    "!pip install setuptools==65.6.0\n",
    "\n",
    "path = \"..\"\n",
    "os.chdir(path)"
   ]
  },
  {
   "cell_type": "code",
   "execution_count": 4,
   "metadata": {
    "tags": []
   },
   "outputs": [
    {
     "name": "stdout",
     "output_type": "stream",
     "text": [
      "Processing /home/ec2-user/SageMaker\n",
      "  Preparing metadata (setup.py) ... \u001b[?25ldone\n",
      "\u001b[?25hBuilding wheels for collected packages: deepar\n",
      "  Building wheel for deepar (setup.py) ... \u001b[?25ldone\n",
      "\u001b[?25h  Created wheel for deepar: filename=deepar-0.0.0-py3-none-any.whl size=3462 sha256=33cfb035b7c31629d56b7d63e022bcbdf1ec5d25175b89b4c9ffb822c0cace46\n",
      "  Stored in directory: /tmp/pip-ephem-wheel-cache-fai9e7mg/wheels/79/a2/86/f30415f29cd2ece5ccbccf03b1ed8d9cb848afeabedfec49df\n",
      "Successfully built deepar\n",
      "Installing collected packages: deepar\n",
      "  Attempting uninstall: deepar\n",
      "    Found existing installation: deepar 0.0.0\n",
      "    Uninstalling deepar-0.0.0:\n",
      "      Successfully uninstalled deepar-0.0.0\n",
      "Successfully installed deepar-0.0.0\n",
      "/home/ec2-user/SageMaker\n"
     ]
    }
   ],
   "source": [
    "#install predefined functions\n",
    "!pip install .\n",
    "\n",
    "#Navigate to the parent directory to train the DeepAR model\n",
    "# org_path = \"..\"\n",
    "# os.chdir(org_path)\n",
    "\n",
    "!pwd"
   ]
  },
  {
   "cell_type": "code",
   "execution_count": 5,
   "metadata": {
    "tags": []
   },
   "outputs": [],
   "source": [
    "import deepar as da"
   ]
  },
  {
   "cell_type": "markdown",
   "metadata": {},
   "source": [
    "# Train Model"
   ]
  },
  {
   "cell_type": "code",
   "execution_count": 6,
   "metadata": {
    "tags": []
   },
   "outputs": [],
   "source": [
    "train_key = 'deepar_sales_training.json'\n",
    "test_key = 'deepar_sales_test.json'\n",
    "# Prediction and context length for training the DeepAR model\n",
    "prediction_length = 9\n",
    "\n",
    "salesfn = './data/store20_sales.csv'\n",
    "salesdf = da.retailsales.prepareSalesData(salesfn)\n",
    "testSet = da.retailsales.getTestSales(salesdf, test_key)\n",
    "trainingSet = da.retailsales.getTrainSales(salesdf, train_key, prediction_length)"
   ]
  },
  {
   "cell_type": "code",
   "execution_count": 7,
   "metadata": {},
   "outputs": [],
   "source": [
    "bucket         = 'ai620-teagans'\n",
    "prefix         = 'deepar-weekly-sales'\n",
    "\n",
    "train_prefix   = '{}/{}'.format(prefix, 'train')\n",
    "test_prefix    = '{}/{}'.format(prefix, 'test')\n",
    "output_prefix  = '{}/{}'.format(prefix, 'output')\n",
    "\n",
    "sagemaker_session = sagemaker.Session()\n",
    "\n",
    "train_path = sagemaker_session.upload_data(train_key, bucket=bucket, key_prefix=train_prefix)\n",
    "test_path = sagemaker_session.upload_data(test_key, bucket=bucket, key_prefix=test_prefix)"
   ]
  },
  {
   "cell_type": "code",
   "execution_count": 8,
   "metadata": {},
   "outputs": [
    {
     "name": "stderr",
     "output_type": "stream",
     "text": [
      "The method get_image_uri has been renamed in sagemaker>=2.\n",
      "See: https://sagemaker.readthedocs.io/en/stable/v2.html for details.\n",
      "train_instance_count has been renamed in sagemaker>=2.\n",
      "See: https://sagemaker.readthedocs.io/en/stable/v2.html for details.\n",
      "train_instance_type has been renamed in sagemaker>=2.\n",
      "See: https://sagemaker.readthedocs.io/en/stable/v2.html for details.\n"
     ]
    }
   ],
   "source": [
    "role = get_execution_role()\n",
    "output_path = r's3://{0}/{1}'.format(bucket, output_prefix) \n",
    "\n",
    "container = get_image_uri(boto3.Session().region_name, 'forecasting-deepar')\n",
    "\n",
    "deepAR = sagemaker.estimator.Estimator(container,\n",
    "                                   role,\n",
    "                                   train_instance_count=1,\n",
    "                                   train_instance_type='ml.c4.xlarge',\n",
    "                                   output_path=output_path,\n",
    "                                   sagemaker_session=sagemaker_session)"
   ]
  },
  {
   "cell_type": "markdown",
   "metadata": {},
   "source": [
    "### Define Hyperparameters"
   ]
  },
  {
   "cell_type": "code",
   "execution_count": 9,
   "metadata": {},
   "outputs": [],
   "source": [
    "hyperparameters = {\n",
    "    \"time_freq\": 'W', # weekly series\n",
    "    \"context_length\": prediction_length, # how many data points are we going to look at before predicting\n",
    "    \"prediction_length\": prediction_length, # number of data points to predict\n",
    "    \"num_cells\": \"40\", # of cells to use in each of the hidden layers\n",
    "    \"num_layers\": \"2\", # of hidden layers\n",
    "    \"likelihood\": \"gaussian\",\n",
    "    \"epochs\": \"300\", # max number of passses over the training data\n",
    "    \"mini_batch_size\": \"32\", # size of the mini batches used during training\n",
    "    \"learning_rate\": \"0.00001\",\n",
    "    \"dropout_rate\": \"0.05\", #for each iteration, a random subset of hidden neurons are not updated\n",
    "    \"early_stopping_patience\": \"10\" # stop if loss hasn't improved in 10 epochs\n",
    "}\n",
    "\n",
    "deepAR.set_hyperparameters(**hyperparameters) #** = arbitrary number of arguments to functions"
   ]
  },
  {
   "cell_type": "code",
   "execution_count": 10,
   "metadata": {},
   "outputs": [
    {
     "name": "stderr",
     "output_type": "stream",
     "text": [
      "INFO:sagemaker:Creating training-job with name: forecasting-deepar-2024-12-10-03-49-00-193\n"
     ]
    },
    {
     "name": "stdout",
     "output_type": "stream",
     "text": [
      "2024-12-10 03:49:02 Starting - Starting the training job...\n",
      "2024-12-10 03:49:15 Starting - Preparing the instances for training...\n",
      "2024-12-10 03:49:58 Downloading - Downloading the training image.....................\n",
      "2024-12-10 03:53:25 Training - Training image download completed. Training in progress..\u001b[34mDocker entrypoint called with argument(s): train\u001b[0m\n",
      "\u001b[34mRunning default environment configuration script\u001b[0m\n",
      "\u001b[34mRunning custom environment configuration script\u001b[0m\n",
      "\u001b[34m/opt/amazon/lib/python3.8/site-packages/mxnet/model.py:97: SyntaxWarning: \"is\" with a literal. Did you mean \"==\"?\n",
      "  if num_device is 1 and 'dist' not in kvstore:\u001b[0m\n",
      "\u001b[34m[12/10/2024 03:53:37 INFO 140083293493056] Reading default configuration from /opt/amazon/lib/python3.8/site-packages/algorithm/resources/default-input.json: {'_kvstore': 'auto', '_num_gpus': 'auto', '_num_kv_servers': 'auto', '_tuning_objective_metric': '', 'cardinality': 'auto', 'dropout_rate': '0.10', 'early_stopping_patience': '', 'embedding_dimension': '10', 'learning_rate': '0.001', 'likelihood': 'student-t', 'mini_batch_size': '128', 'num_cells': '40', 'num_dynamic_feat': 'auto', 'num_eval_samples': '100', 'num_layers': '2', 'test_quantiles': '[0.1, 0.2, 0.3, 0.4, 0.5, 0.6, 0.7, 0.8, 0.9]'}\u001b[0m\n",
      "\u001b[34m[12/10/2024 03:53:37 INFO 140083293493056] Merging with provided configuration from /opt/ml/input/config/hyperparameters.json: {'context_length': '9', 'dropout_rate': '0.05', 'early_stopping_patience': '10', 'epochs': '300', 'learning_rate': '0.00001', 'likelihood': 'gaussian', 'mini_batch_size': '32', 'num_cells': '40', 'num_layers': '2', 'prediction_length': '9', 'time_freq': 'W'}\u001b[0m\n",
      "\u001b[34m[12/10/2024 03:53:37 INFO 140083293493056] Final configuration: {'_kvstore': 'auto', '_num_gpus': 'auto', '_num_kv_servers': 'auto', '_tuning_objective_metric': '', 'cardinality': 'auto', 'dropout_rate': '0.05', 'early_stopping_patience': '10', 'embedding_dimension': '10', 'learning_rate': '0.00001', 'likelihood': 'gaussian', 'mini_batch_size': '32', 'num_cells': '40', 'num_dynamic_feat': 'auto', 'num_eval_samples': '100', 'num_layers': '2', 'test_quantiles': '[0.1, 0.2, 0.3, 0.4, 0.5, 0.6, 0.7, 0.8, 0.9]', 'context_length': '9', 'epochs': '300', 'prediction_length': '9', 'time_freq': 'W'}\u001b[0m\n",
      "\u001b[34mProcess 7 is a worker.\u001b[0m\n",
      "\u001b[34m[12/10/2024 03:53:37 INFO 140083293493056] Detected entry point for worker worker\u001b[0m\n",
      "\u001b[34m[12/10/2024 03:53:37 INFO 140083293493056] Using early stopping with patience 10\u001b[0m\n",
      "\u001b[34m[12/10/2024 03:53:37 INFO 140083293493056] random_seed is None\u001b[0m\n",
      "\u001b[34m[12/10/2024 03:53:37 INFO 140083293493056] [cardinality=auto] `cat` field was found in the file `/opt/ml/input/data/train/deepar_sales_training.json` and will be used for training.\u001b[0m\n",
      "\u001b[34m[12/10/2024 03:53:37 INFO 140083293493056] [num_dynamic_feat=auto] `dynamic_feat` field was found in the file `/opt/ml/input/data/train/deepar_sales_training.json` and will be used for training.\u001b[0m\n",
      "\u001b[34m[12/10/2024 03:53:37 INFO 140083293493056] [cardinality=auto] Inferred value of cardinality=[66] from dataset.\u001b[0m\n",
      "\u001b[34m[12/10/2024 03:53:37 INFO 140083293493056] [num_dynamic_feat=auto] Inferred value of num_dynamic_feat=1 from dataset.\u001b[0m\n",
      "\u001b[34m[12/10/2024 03:53:37 INFO 140083293493056] Training set statistics:\u001b[0m\n",
      "\u001b[34m[12/10/2024 03:53:37 INFO 140083293493056] Real time series\u001b[0m\n",
      "\u001b[34m[12/10/2024 03:53:37 INFO 140083293493056] number of time series: 66\u001b[0m\n",
      "\u001b[34m[12/10/2024 03:53:37 INFO 140083293493056] number of observations: 8844\u001b[0m\n",
      "\u001b[34m[12/10/2024 03:53:37 INFO 140083293493056] mean target length: 134.0\u001b[0m\n",
      "\u001b[34m[12/10/2024 03:53:37 INFO 140083293493056] min/mean/max target: 223.3000030517578/31660.356933372906/422306.25\u001b[0m\n",
      "\u001b[34m[12/10/2024 03:53:37 INFO 140083293493056] mean abs(target): 31660.356933372906\u001b[0m\n",
      "\u001b[34m[12/10/2024 03:53:37 INFO 140083293493056] contains missing values: no\u001b[0m\n",
      "\u001b[34m[12/10/2024 03:53:37 INFO 140083293493056] Small number of time series. Doing 5 passes over dataset with prob 0.9696969696969697 per epoch.\u001b[0m\n",
      "\u001b[34m[12/10/2024 03:53:37 INFO 140083293493056] Test set statistics:\u001b[0m\n",
      "\u001b[34m[12/10/2024 03:53:37 INFO 140083293493056] Real time series\u001b[0m\n",
      "\u001b[34m[12/10/2024 03:53:37 INFO 140083293493056] number of time series: 66\u001b[0m\n",
      "\u001b[34m[12/10/2024 03:53:37 INFO 140083293493056] number of observations: 9438\u001b[0m\n",
      "\u001b[34m[12/10/2024 03:53:37 INFO 140083293493056] mean target length: 143.0\u001b[0m\n",
      "\u001b[34m[12/10/2024 03:53:37 INFO 140083293493056] min/mean/max target: 223.3000030517578/31667.61111662958/422306.25\u001b[0m\n",
      "\u001b[34m[12/10/2024 03:53:37 INFO 140083293493056] mean abs(target): 31667.61111662958\u001b[0m\n",
      "\u001b[34m[12/10/2024 03:53:37 INFO 140083293493056] contains missing values: no\u001b[0m\n",
      "\u001b[34m/opt/amazon/lib/python3.8/site-packages/algorithm/core/date_feature_set.py:44: FutureWarning: weekofyear and week have been deprecated, please use DatetimeIndex.isocalendar().week instead, which returns a Series.  To exactly reproduce the behavior of week and weekofyear and return an Index, you may call pd.Int64Index(idx.isocalendar().week)\n",
      "  return index.weekofyear / 51.0 - 0.5\u001b[0m\n",
      "\u001b[34m[12/10/2024 03:53:37 INFO 140083293493056] #memory_usage::<batchbuffer> = 0.89111328125 mb\u001b[0m\n",
      "\u001b[34m/opt/amazon/python3.8/lib/python3.8/subprocess.py:848: RuntimeWarning: line buffering (buffering=1) isn't supported in binary mode, the default buffer size will be used\n",
      "  self.stdout = io.open(c2pread, 'rb', bufsize)\u001b[0m\n",
      "\u001b[34m[12/10/2024 03:53:37 INFO 140083293493056] nvidia-smi: took 0.031 seconds to run.\u001b[0m\n",
      "\u001b[34m[12/10/2024 03:53:37 INFO 140083293493056] nvidia-smi identified 0 GPUs.\u001b[0m\n",
      "\u001b[34m[12/10/2024 03:53:37 INFO 140083293493056] Number of GPUs being used: 0\u001b[0m\n",
      "\u001b[34m[12/10/2024 03:53:37 INFO 140083293493056] Create Store: local\u001b[0m\n",
      "\u001b[34m#metrics {\"StartTime\": 1733802817.8851535, \"EndTime\": 1733802817.9158242, \"Dimensions\": {\"Algorithm\": \"AWS/DeepAR\", \"Host\": \"algo-1\", \"Operation\": \"training\"}, \"Metrics\": {\"get_graph.time\": {\"sum\": 29.23583984375, \"count\": 1, \"min\": 29.23583984375, \"max\": 29.23583984375}}}\u001b[0m\n",
      "\u001b[34m[12/10/2024 03:53:37 INFO 140083293493056] Number of GPUs being used: 0\u001b[0m\n",
      "\u001b[34m[12/10/2024 03:53:37 INFO 140083293493056] #memory_usage::<model> = 3 mb\u001b[0m\n",
      "\u001b[34m#metrics {\"StartTime\": 1733802817.9158874, \"EndTime\": 1733802817.961485, \"Dimensions\": {\"Algorithm\": \"AWS/DeepAR\", \"Host\": \"algo-1\", \"Operation\": \"training\"}, \"Metrics\": {\"initialize.time\": {\"sum\": 76.20882987976074, \"count\": 1, \"min\": 76.20882987976074, \"max\": 76.20882987976074}}}\u001b[0m\n",
      "\u001b[34m[03:53:38] /opt/brazil-pkg-cache/packages/AIAlgorithmsMXNet/AIAlgorithmsMXNet-1.3.x_Cuda_11.1.x.406.0/AL2_x86_64/generic-flavor/src/src/operator/nn/mkldnn/mkldnn_base.cc:74: Allocate 5120 bytes with malloc directly\u001b[0m\n",
      "\u001b[34m[12/10/2024 03:53:38 INFO 140083293493056] Epoch[0] Batch[0] avg_epoch_loss=10.759180\u001b[0m\n",
      "\u001b[34m[12/10/2024 03:53:38 INFO 140083293493056] #quality_metric: host=algo-1, epoch=0, batch=0 train loss <loss>=10.759180068969727\u001b[0m\n",
      "\u001b[34m[12/10/2024 03:53:38 INFO 140083293493056] Epoch[0] Batch[5] avg_epoch_loss=10.789702\u001b[0m\n",
      "\u001b[34m[12/10/2024 03:53:38 INFO 140083293493056] #quality_metric: host=algo-1, epoch=0, batch=5 train loss <loss>=10.789701620737711\u001b[0m\n",
      "\u001b[34m[12/10/2024 03:53:38 INFO 140083293493056] Epoch[0] Batch [5]#011Speed: 926.16 samples/sec#011loss=10.789702\u001b[0m\n",
      "\u001b[34m[12/10/2024 03:53:38 INFO 140083293493056] processed a total of 306 examples\u001b[0m\n",
      "\u001b[34m#metrics {\"StartTime\": 1733802817.961552, \"EndTime\": 1733802818.408735, \"Dimensions\": {\"Algorithm\": \"AWS/DeepAR\", \"Host\": \"algo-1\", \"Operation\": \"training\"}, \"Metrics\": {\"epochs\": {\"sum\": 300.0, \"count\": 1, \"min\": 300, \"max\": 300}, \"update.time\": {\"sum\": 447.10588455200195, \"count\": 1, \"min\": 447.10588455200195, \"max\": 447.10588455200195}}}\u001b[0m\n",
      "\u001b[34m[12/10/2024 03:53:38 INFO 140083293493056] #throughput_metric: host=algo-1, train throughput=684.250944841716 records/second\u001b[0m\n",
      "\u001b[34m[12/10/2024 03:53:38 INFO 140083293493056] #progress_metric: host=algo-1, completed 0.3333333333333333 % of epochs\u001b[0m\n",
      "\u001b[34m[12/10/2024 03:53:38 INFO 140083293493056] #quality_metric: host=algo-1, epoch=0, train loss <loss>=10.693056583404541\u001b[0m\n",
      "\u001b[34m[12/10/2024 03:53:38 INFO 140083293493056] best epoch loss so far\u001b[0m\n",
      "\u001b[34m[12/10/2024 03:53:38 INFO 140083293493056] Saved checkpoint to \"/opt/ml/model/state_b2a7eefc-8967-41b2-b321-eb25d1202b18-0000.params\"\u001b[0m\n",
      "\u001b[34m#metrics {\"StartTime\": 1733802818.4088023, \"EndTime\": 1733802818.4165478, \"Dimensions\": {\"Algorithm\": \"AWS/DeepAR\", \"Host\": \"algo-1\", \"Operation\": \"training\"}, \"Metrics\": {\"state.serialize.time\": {\"sum\": 7.208824157714844, \"count\": 1, \"min\": 7.208824157714844, \"max\": 7.208824157714844}}}\u001b[0m\n",
      "\u001b[34m[12/10/2024 03:53:38 INFO 140083293493056] Epoch[1] Batch[0] avg_epoch_loss=10.928424\u001b[0m\n",
      "\u001b[34m[12/10/2024 03:53:38 INFO 140083293493056] #quality_metric: host=algo-1, epoch=1, batch=0 train loss <loss>=10.928423881530762\u001b[0m\n",
      "\u001b[34m[12/10/2024 03:53:38 INFO 140083293493056] Epoch[1] Batch[5] avg_epoch_loss=10.910140\u001b[0m\n",
      "\u001b[34m[12/10/2024 03:53:38 INFO 140083293493056] #quality_metric: host=algo-1, epoch=1, batch=5 train loss <loss>=10.910140037536621\u001b[0m\n",
      "\u001b[34m[12/10/2024 03:53:38 INFO 140083293493056] Epoch[1] Batch [5]#011Speed: 1028.46 samples/sec#011loss=10.910140\u001b[0m\n",
      "\u001b[34m[12/10/2024 03:53:38 INFO 140083293493056] processed a total of 304 examples\u001b[0m\n",
      "\u001b[34m#metrics {\"StartTime\": 1733802818.4166074, \"EndTime\": 1733802818.8148298, \"Dimensions\": {\"Algorithm\": \"AWS/DeepAR\", \"Host\": \"algo-1\", \"Operation\": \"training\"}, \"Metrics\": {\"update.time\": {\"sum\": 398.1623649597168, \"count\": 1, \"min\": 398.1623649597168, \"max\": 398.1623649597168}}}\u001b[0m\n",
      "\u001b[34m[12/10/2024 03:53:38 INFO 140083293493056] #throughput_metric: host=algo-1, train throughput=763.313823081132 records/second\u001b[0m\n",
      "\u001b[34m[12/10/2024 03:53:38 INFO 140083293493056] #progress_metric: host=algo-1, completed 0.6666666666666666 % of epochs\u001b[0m\n",
      "\u001b[34m[12/10/2024 03:53:38 INFO 140083293493056] #quality_metric: host=algo-1, epoch=1, train loss <loss>=10.872374629974365\u001b[0m\n",
      "\u001b[34m[12/10/2024 03:53:38 INFO 140083293493056] loss did not improve\u001b[0m\n",
      "\u001b[34m[12/10/2024 03:53:38 INFO 140083293493056] Epoch[2] Batch[0] avg_epoch_loss=10.925136\u001b[0m\n",
      "\u001b[34m[12/10/2024 03:53:38 INFO 140083293493056] #quality_metric: host=algo-1, epoch=2, batch=0 train loss <loss>=10.925135612487793\u001b[0m\n",
      "\u001b[34m[12/10/2024 03:53:39 INFO 140083293493056] Epoch[2] Batch[5] avg_epoch_loss=10.709265\u001b[0m\n",
      "\u001b[34m[12/10/2024 03:53:39 INFO 140083293493056] #quality_metric: host=algo-1, epoch=2, batch=5 train loss <loss>=10.709265232086182\u001b[0m\n",
      "\u001b[34m[12/10/2024 03:53:39 INFO 140083293493056] Epoch[2] Batch [5]#011Speed: 964.51 samples/sec#011loss=10.709265\u001b[0m\n",
      "\u001b[34m[12/10/2024 03:53:39 INFO 140083293493056] processed a total of 305 examples\u001b[0m\n",
      "\u001b[34m#metrics {\"StartTime\": 1733802818.8148978, \"EndTime\": 1733802819.259574, \"Dimensions\": {\"Algorithm\": \"AWS/DeepAR\", \"Host\": \"algo-1\", \"Operation\": \"training\"}, \"Metrics\": {\"update.time\": {\"sum\": 444.1704750061035, \"count\": 1, \"min\": 444.1704750061035, \"max\": 444.1704750061035}}}\u001b[0m\n",
      "\u001b[34m[12/10/2024 03:53:39 INFO 140083293493056] #throughput_metric: host=algo-1, train throughput=686.4989892452692 records/second\u001b[0m\n",
      "\u001b[34m[12/10/2024 03:53:39 INFO 140083293493056] #progress_metric: host=algo-1, completed 1.0 % of epochs\u001b[0m\n",
      "\u001b[34m[12/10/2024 03:53:39 INFO 140083293493056] #quality_metric: host=algo-1, epoch=2, train loss <loss>=10.701925277709961\u001b[0m\n",
      "\u001b[34m[12/10/2024 03:53:39 INFO 140083293493056] loss did not improve\u001b[0m\n",
      "\u001b[34m[12/10/2024 03:53:39 INFO 140083293493056] Epoch[3] Batch[0] avg_epoch_loss=10.310376\u001b[0m\n",
      "\u001b[34m[12/10/2024 03:53:39 INFO 140083293493056] #quality_metric: host=algo-1, epoch=3, batch=0 train loss <loss>=10.310376167297363\u001b[0m\n",
      "\u001b[34m[12/10/2024 03:53:39 INFO 140083293493056] Epoch[3] Batch[5] avg_epoch_loss=10.672108\u001b[0m\n",
      "\u001b[34m[12/10/2024 03:53:39 INFO 140083293493056] #quality_metric: host=algo-1, epoch=3, batch=5 train loss <loss>=10.67210833231608\u001b[0m\n",
      "\u001b[34m[12/10/2024 03:53:39 INFO 140083293493056] Epoch[3] Batch [5]#011Speed: 727.30 samples/sec#011loss=10.672108\u001b[0m\n",
      "\u001b[34m[12/10/2024 03:53:39 INFO 140083293493056] processed a total of 319 examples\u001b[0m\n",
      "\u001b[34m#metrics {\"StartTime\": 1733802819.2596364, \"EndTime\": 1733802819.7642157, \"Dimensions\": {\"Algorithm\": \"AWS/DeepAR\", \"Host\": \"algo-1\", \"Operation\": \"training\"}, \"Metrics\": {\"update.time\": {\"sum\": 504.24695014953613, \"count\": 1, \"min\": 504.24695014953613, \"max\": 504.24695014953613}}}\u001b[0m\n",
      "\u001b[34m[12/10/2024 03:53:39 INFO 140083293493056] #throughput_metric: host=algo-1, train throughput=632.5125894298143 records/second\u001b[0m\n",
      "\u001b[34m[12/10/2024 03:53:39 INFO 140083293493056] #progress_metric: host=algo-1, completed 1.3333333333333333 % of epochs\u001b[0m\n",
      "\u001b[34m[12/10/2024 03:53:39 INFO 140083293493056] #quality_metric: host=algo-1, epoch=3, train loss <loss>=10.74132423400879\u001b[0m\n",
      "\u001b[34m[12/10/2024 03:53:39 INFO 140083293493056] loss did not improve\u001b[0m\n",
      "\u001b[34m[12/10/2024 03:53:39 INFO 140083293493056] Epoch[4] Batch[0] avg_epoch_loss=10.962928\u001b[0m\n",
      "\u001b[34m[12/10/2024 03:53:39 INFO 140083293493056] #quality_metric: host=algo-1, epoch=4, batch=0 train loss <loss>=10.96292781829834\u001b[0m\n",
      "\u001b[34m[12/10/2024 03:53:40 INFO 140083293493056] Epoch[4] Batch[5] avg_epoch_loss=10.710779\u001b[0m\n",
      "\u001b[34m[12/10/2024 03:53:40 INFO 140083293493056] #quality_metric: host=algo-1, epoch=4, batch=5 train loss <loss>=10.710778713226318\u001b[0m\n",
      "\u001b[34m[12/10/2024 03:53:40 INFO 140083293493056] Epoch[4] Batch [5]#011Speed: 908.52 samples/sec#011loss=10.710779\u001b[0m\n",
      "\u001b[34m[12/10/2024 03:53:40 INFO 140083293493056] Epoch[4] Batch[10] avg_epoch_loss=10.820924\u001b[0m\n",
      "\u001b[34m[12/10/2024 03:53:40 INFO 140083293493056] #quality_metric: host=algo-1, epoch=4, batch=10 train loss <loss>=10.953098487854003\u001b[0m\n",
      "\u001b[34m[12/10/2024 03:53:40 INFO 140083293493056] Epoch[4] Batch [10]#011Speed: 669.78 samples/sec#011loss=10.953098\u001b[0m\n",
      "\u001b[34m[12/10/2024 03:53:40 INFO 140083293493056] processed a total of 321 examples\u001b[0m\n",
      "\u001b[34m#metrics {\"StartTime\": 1733802819.764278, \"EndTime\": 1733802820.300734, \"Dimensions\": {\"Algorithm\": \"AWS/DeepAR\", \"Host\": \"algo-1\", \"Operation\": \"training\"}, \"Metrics\": {\"update.time\": {\"sum\": 536.1297130584717, \"count\": 1, \"min\": 536.1297130584717, \"max\": 536.1297130584717}}}\u001b[0m\n",
      "\u001b[34m[12/10/2024 03:53:40 INFO 140083293493056] #throughput_metric: host=algo-1, train throughput=598.6103197546464 records/second\u001b[0m\n",
      "\u001b[34m[12/10/2024 03:53:40 INFO 140083293493056] #progress_metric: host=algo-1, completed 1.6666666666666667 % of epochs\u001b[0m\n",
      "\u001b[34m[12/10/2024 03:53:40 INFO 140083293493056] #quality_metric: host=algo-1, epoch=4, train loss <loss>=10.820924065329812\u001b[0m\n",
      "\u001b[34m[12/10/2024 03:53:40 INFO 140083293493056] loss did not improve\u001b[0m\n",
      "\u001b[34m[12/10/2024 03:53:40 INFO 140083293493056] Epoch[5] Batch[0] avg_epoch_loss=10.256523\u001b[0m\n",
      "\u001b[34m[12/10/2024 03:53:40 INFO 140083293493056] #quality_metric: host=algo-1, epoch=5, batch=0 train loss <loss>=10.256523132324219\u001b[0m\n",
      "\u001b[34m[12/10/2024 03:53:40 INFO 140083293493056] Epoch[5] Batch[5] avg_epoch_loss=10.635313\u001b[0m\n",
      "\u001b[34m[12/10/2024 03:53:40 INFO 140083293493056] #quality_metric: host=algo-1, epoch=5, batch=5 train loss <loss>=10.635313034057617\u001b[0m\n",
      "\u001b[34m[12/10/2024 03:53:40 INFO 140083293493056] Epoch[5] Batch [5]#011Speed: 661.71 samples/sec#011loss=10.635313\u001b[0m\n",
      "\u001b[34m[12/10/2024 03:53:40 INFO 140083293493056] processed a total of 308 examples\u001b[0m\n",
      "\u001b[34m#metrics {\"StartTime\": 1733802820.300813, \"EndTime\": 1733802820.886383, \"Dimensions\": {\"Algorithm\": \"AWS/DeepAR\", \"Host\": \"algo-1\", \"Operation\": \"training\"}, \"Metrics\": {\"update.time\": {\"sum\": 584.9263668060303, \"count\": 1, \"min\": 584.9263668060303, \"max\": 584.9263668060303}}}\u001b[0m\n",
      "\u001b[34m[12/10/2024 03:53:40 INFO 140083293493056] #throughput_metric: host=algo-1, train throughput=526.4755228909731 records/second\u001b[0m\n",
      "\u001b[34m[12/10/2024 03:53:40 INFO 140083293493056] #progress_metric: host=algo-1, completed 2.0 % of epochs\u001b[0m\n",
      "\u001b[34m[12/10/2024 03:53:40 INFO 140083293493056] #quality_metric: host=algo-1, epoch=5, train loss <loss>=10.73888111114502\u001b[0m\n",
      "\u001b[34m[12/10/2024 03:53:40 INFO 140083293493056] loss did not improve\u001b[0m\n",
      "\u001b[34m[12/10/2024 03:53:41 INFO 140083293493056] Epoch[6] Batch[0] avg_epoch_loss=10.966788\u001b[0m\n",
      "\u001b[34m[12/10/2024 03:53:41 INFO 140083293493056] #quality_metric: host=algo-1, epoch=6, batch=0 train loss <loss>=10.966788291931152\u001b[0m\n",
      "\u001b[34m[12/10/2024 03:53:41 INFO 140083293493056] Epoch[6] Batch[5] avg_epoch_loss=10.841787\u001b[0m\n",
      "\u001b[34m[12/10/2024 03:53:41 INFO 140083293493056] #quality_metric: host=algo-1, epoch=6, batch=5 train loss <loss>=10.841787338256836\u001b[0m\n",
      "\u001b[34m[12/10/2024 03:53:41 INFO 140083293493056] Epoch[6] Batch [5]#011Speed: 1023.30 samples/sec#011loss=10.841787\u001b[0m\n",
      "\u001b[34m[12/10/2024 03:53:41 INFO 140083293493056] Epoch[6] Batch[10] avg_epoch_loss=10.440037\u001b[0m\n",
      "\u001b[34m[12/10/2024 03:53:41 INFO 140083293493056] #quality_metric: host=algo-1, epoch=6, batch=10 train loss <loss>=9.957937049865723\u001b[0m\n",
      "\u001b[34m[12/10/2024 03:53:41 INFO 140083293493056] Epoch[6] Batch [10]#011Speed: 995.44 samples/sec#011loss=9.957937\u001b[0m\n",
      "\u001b[34m[12/10/2024 03:53:41 INFO 140083293493056] processed a total of 322 examples\u001b[0m\n",
      "\u001b[34m#metrics {\"StartTime\": 1733802820.8864465, \"EndTime\": 1733802821.3198206, \"Dimensions\": {\"Algorithm\": \"AWS/DeepAR\", \"Host\": \"algo-1\", \"Operation\": \"training\"}, \"Metrics\": {\"update.time\": {\"sum\": 432.60884284973145, \"count\": 1, \"min\": 432.60884284973145, \"max\": 432.60884284973145}}}\u001b[0m\n",
      "\u001b[34m[12/10/2024 03:53:41 INFO 140083293493056] #throughput_metric: host=algo-1, train throughput=744.1737088348202 records/second\u001b[0m\n",
      "\u001b[34m[12/10/2024 03:53:41 INFO 140083293493056] #progress_metric: host=algo-1, completed 2.3333333333333335 % of epochs\u001b[0m\n",
      "\u001b[34m[12/10/2024 03:53:41 INFO 140083293493056] #quality_metric: host=algo-1, epoch=6, train loss <loss>=10.440037207169967\u001b[0m\n",
      "\u001b[34m[12/10/2024 03:53:41 INFO 140083293493056] best epoch loss so far\u001b[0m\n",
      "\u001b[34m[12/10/2024 03:53:41 INFO 140083293493056] Saved checkpoint to \"/opt/ml/model/state_22035f80-7dfe-41a0-98d6-8dd3bed670bf-0000.params\"\u001b[0m\n",
      "\u001b[34m#metrics {\"StartTime\": 1733802821.3198748, \"EndTime\": 1733802821.326764, \"Dimensions\": {\"Algorithm\": \"AWS/DeepAR\", \"Host\": \"algo-1\", \"Operation\": \"training\"}, \"Metrics\": {\"state.serialize.time\": {\"sum\": 6.495952606201172, \"count\": 1, \"min\": 6.495952606201172, \"max\": 6.495952606201172}}}\u001b[0m\n",
      "\u001b[34m[12/10/2024 03:53:41 INFO 140083293493056] Epoch[7] Batch[0] avg_epoch_loss=10.954832\u001b[0m\n",
      "\u001b[34m[12/10/2024 03:53:41 INFO 140083293493056] #quality_metric: host=algo-1, epoch=7, batch=0 train loss <loss>=10.954832077026367\u001b[0m\n",
      "\u001b[34m[12/10/2024 03:53:41 INFO 140083293493056] Epoch[7] Batch[5] avg_epoch_loss=10.728765\u001b[0m\n",
      "\u001b[34m[12/10/2024 03:53:41 INFO 140083293493056] #quality_metric: host=algo-1, epoch=7, batch=5 train loss <loss>=10.728764533996582\u001b[0m\n",
      "\u001b[34m[12/10/2024 03:53:41 INFO 140083293493056] Epoch[7] Batch [5]#011Speed: 988.44 samples/sec#011loss=10.728765\u001b[0m\n",
      "\u001b[34m[12/10/2024 03:53:41 INFO 140083293493056] Epoch[7] Batch[10] avg_epoch_loss=10.664492\u001b[0m\n",
      "\u001b[34m[12/10/2024 03:53:41 INFO 140083293493056] #quality_metric: host=algo-1, epoch=7, batch=10 train loss <loss>=10.587364387512206\u001b[0m\n",
      "\u001b[34m[12/10/2024 03:53:41 INFO 140083293493056] Epoch[7] Batch [10]#011Speed: 991.76 samples/sec#011loss=10.587364\u001b[0m\n",
      "\u001b[34m[12/10/2024 03:53:41 INFO 140083293493056] processed a total of 341 examples\u001b[0m\n",
      "\u001b[34m#metrics {\"StartTime\": 1733802821.3268156, \"EndTime\": 1733802821.7558136, \"Dimensions\": {\"Algorithm\": \"AWS/DeepAR\", \"Host\": \"algo-1\", \"Operation\": \"training\"}, \"Metrics\": {\"update.time\": {\"sum\": 428.95030975341797, \"count\": 1, \"min\": 428.95030975341797, \"max\": 428.95030975341797}}}\u001b[0m\n",
      "\u001b[34m[12/10/2024 03:53:41 INFO 140083293493056] #throughput_metric: host=algo-1, train throughput=794.8136714443219 records/second\u001b[0m\n",
      "\u001b[34m[12/10/2024 03:53:41 INFO 140083293493056] #progress_metric: host=algo-1, completed 2.6666666666666665 % of epochs\u001b[0m\n",
      "\u001b[34m[12/10/2024 03:53:41 INFO 140083293493056] #quality_metric: host=algo-1, epoch=7, train loss <loss>=10.664491740140049\u001b[0m\n",
      "\u001b[34m[12/10/2024 03:53:41 INFO 140083293493056] loss did not improve\u001b[0m\n",
      "\u001b[34m[12/10/2024 03:53:41 INFO 140083293493056] Epoch[8] Batch[0] avg_epoch_loss=10.267630\u001b[0m\n",
      "\u001b[34m[12/10/2024 03:53:41 INFO 140083293493056] #quality_metric: host=algo-1, epoch=8, batch=0 train loss <loss>=10.267629623413086\u001b[0m\n",
      "\u001b[34m[12/10/2024 03:53:42 INFO 140083293493056] Epoch[8] Batch[5] avg_epoch_loss=10.501314\u001b[0m\n",
      "\u001b[34m[12/10/2024 03:53:42 INFO 140083293493056] #quality_metric: host=algo-1, epoch=8, batch=5 train loss <loss>=10.50131368637085\u001b[0m\n",
      "\u001b[34m[12/10/2024 03:53:42 INFO 140083293493056] Epoch[8] Batch [5]#011Speed: 902.14 samples/sec#011loss=10.501314\u001b[0m\n",
      "\u001b[34m[12/10/2024 03:53:42 INFO 140083293493056] Epoch[8] Batch[10] avg_epoch_loss=10.610536\u001b[0m\n",
      "\u001b[34m[12/10/2024 03:53:42 INFO 140083293493056] #quality_metric: host=algo-1, epoch=8, batch=10 train loss <loss>=10.741601943969727\u001b[0m\n",
      "\u001b[34m[12/10/2024 03:53:42 INFO 140083293493056] Epoch[8] Batch [10]#011Speed: 987.52 samples/sec#011loss=10.741602\u001b[0m\n",
      "\u001b[34m[12/10/2024 03:53:42 INFO 140083293493056] processed a total of 321 examples\u001b[0m\n",
      "\u001b[34m#metrics {\"StartTime\": 1733802821.7558694, \"EndTime\": 1733802822.2017689, \"Dimensions\": {\"Algorithm\": \"AWS/DeepAR\", \"Host\": \"algo-1\", \"Operation\": \"training\"}, \"Metrics\": {\"update.time\": {\"sum\": 445.13702392578125, \"count\": 1, \"min\": 445.13702392578125, \"max\": 445.13702392578125}}}\u001b[0m\n",
      "\u001b[34m[12/10/2024 03:53:42 INFO 140083293493056] #throughput_metric: host=algo-1, train throughput=720.9911073744638 records/second\u001b[0m\n",
      "\u001b[34m[12/10/2024 03:53:42 INFO 140083293493056] #progress_metric: host=algo-1, completed 3.0 % of epochs\u001b[0m\n",
      "\u001b[34m[12/10/2024 03:53:42 INFO 140083293493056] #quality_metric: host=algo-1, epoch=8, train loss <loss>=10.610535621643066\u001b[0m\n",
      "\u001b[34m[12/10/2024 03:53:42 INFO 140083293493056] loss did not improve\u001b[0m\n",
      "\u001b[34m[12/10/2024 03:53:42 INFO 140083293493056] Epoch[9] Batch[0] avg_epoch_loss=10.741055\u001b[0m\n",
      "\u001b[34m[12/10/2024 03:53:42 INFO 140083293493056] #quality_metric: host=algo-1, epoch=9, batch=0 train loss <loss>=10.74105453491211\u001b[0m\n",
      "\u001b[34m[12/10/2024 03:53:42 INFO 140083293493056] Epoch[9] Batch[5] avg_epoch_loss=10.663005\u001b[0m\n",
      "\u001b[34m[12/10/2024 03:53:42 INFO 140083293493056] #quality_metric: host=algo-1, epoch=9, batch=5 train loss <loss>=10.663005352020264\u001b[0m\n",
      "\u001b[34m[12/10/2024 03:53:42 INFO 140083293493056] Epoch[9] Batch [5]#011Speed: 941.79 samples/sec#011loss=10.663005\u001b[0m\n",
      "\u001b[34m[12/10/2024 03:53:42 INFO 140083293493056] processed a total of 305 examples\u001b[0m\n",
      "\u001b[34m#metrics {\"StartTime\": 1733802822.2018247, \"EndTime\": 1733802822.6047046, \"Dimensions\": {\"Algorithm\": \"AWS/DeepAR\", \"Host\": \"algo-1\", \"Operation\": \"training\"}, \"Metrics\": {\"update.time\": {\"sum\": 402.3568630218506, \"count\": 1, \"min\": 402.3568630218506, \"max\": 402.3568630218506}}}\u001b[0m\n",
      "\u001b[34m[12/10/2024 03:53:42 INFO 140083293493056] #throughput_metric: host=algo-1, train throughput=757.8404501797057 records/second\u001b[0m\n",
      "\u001b[34m[12/10/2024 03:53:42 INFO 140083293493056] #progress_metric: host=algo-1, completed 3.3333333333333335 % of epochs\u001b[0m\n",
      "\u001b[34m[12/10/2024 03:53:42 INFO 140083293493056] #quality_metric: host=algo-1, epoch=9, train loss <loss>=10.674800300598145\u001b[0m\n",
      "\u001b[34m[12/10/2024 03:53:42 INFO 140083293493056] loss did not improve\u001b[0m\n",
      "\u001b[34m[12/10/2024 03:53:42 INFO 140083293493056] Epoch[10] Batch[0] avg_epoch_loss=10.301592\u001b[0m\n",
      "\u001b[34m[12/10/2024 03:53:42 INFO 140083293493056] #quality_metric: host=algo-1, epoch=10, batch=0 train loss <loss>=10.301591873168945\u001b[0m\n",
      "\u001b[34m[12/10/2024 03:53:42 INFO 140083293493056] Epoch[10] Batch[5] avg_epoch_loss=10.514666\u001b[0m\n",
      "\u001b[34m[12/10/2024 03:53:42 INFO 140083293493056] #quality_metric: host=algo-1, epoch=10, batch=5 train loss <loss>=10.514665603637695\u001b[0m\n",
      "\u001b[34m[12/10/2024 03:53:42 INFO 140083293493056] Epoch[10] Batch [5]#011Speed: 1018.78 samples/sec#011loss=10.514666\u001b[0m\n",
      "\u001b[34m[12/10/2024 03:53:43 INFO 140083293493056] Epoch[10] Batch[10] avg_epoch_loss=10.459494\u001b[0m\n",
      "\u001b[34m[12/10/2024 03:53:43 INFO 140083293493056] #quality_metric: host=algo-1, epoch=10, batch=10 train loss <loss>=10.393287658691406\u001b[0m\n",
      "\u001b[34m[12/10/2024 03:53:43 INFO 140083293493056] Epoch[10] Batch [10]#011Speed: 908.97 samples/sec#011loss=10.393288\u001b[0m\n",
      "\u001b[34m[12/10/2024 03:53:43 INFO 140083293493056] processed a total of 341 examples\u001b[0m\n",
      "\u001b[34m#metrics {\"StartTime\": 1733802822.6047788, \"EndTime\": 1733802823.0448034, \"Dimensions\": {\"Algorithm\": \"AWS/DeepAR\", \"Host\": \"algo-1\", \"Operation\": \"training\"}, \"Metrics\": {\"update.time\": {\"sum\": 439.73636627197266, \"count\": 1, \"min\": 439.73636627197266, \"max\": 439.73636627197266}}}\u001b[0m\n",
      "\u001b[34m[12/10/2024 03:53:43 INFO 140083293493056] #throughput_metric: host=algo-1, train throughput=775.2309360067297 records/second\u001b[0m\n",
      "\u001b[34m[12/10/2024 03:53:43 INFO 140083293493056] #progress_metric: host=algo-1, completed 3.6666666666666665 % of epochs\u001b[0m\n",
      "\u001b[34m[12/10/2024 03:53:43 INFO 140083293493056] #quality_metric: host=algo-1, epoch=10, train loss <loss>=10.459493810480291\u001b[0m\n",
      "\u001b[34m[12/10/2024 03:53:43 INFO 140083293493056] loss did not improve\u001b[0m\n",
      "\u001b[34m[12/10/2024 03:53:43 INFO 140083293493056] Epoch[11] Batch[0] avg_epoch_loss=10.616009\u001b[0m\n",
      "\u001b[34m[12/10/2024 03:53:43 INFO 140083293493056] #quality_metric: host=algo-1, epoch=11, batch=0 train loss <loss>=10.616008758544922\u001b[0m\n",
      "\u001b[34m[12/10/2024 03:53:43 INFO 140083293493056] Epoch[11] Batch[5] avg_epoch_loss=10.814716\u001b[0m\n",
      "\u001b[34m[12/10/2024 03:53:43 INFO 140083293493056] #quality_metric: host=algo-1, epoch=11, batch=5 train loss <loss>=10.814716339111328\u001b[0m\n",
      "\u001b[34m[12/10/2024 03:53:43 INFO 140083293493056] Epoch[11] Batch [5]#011Speed: 1034.77 samples/sec#011loss=10.814716\u001b[0m\n",
      "\u001b[34m[12/10/2024 03:53:43 INFO 140083293493056] processed a total of 311 examples\u001b[0m\n",
      "\u001b[34m#metrics {\"StartTime\": 1733802823.0449069, \"EndTime\": 1733802823.435723, \"Dimensions\": {\"Algorithm\": \"AWS/DeepAR\", \"Host\": \"algo-1\", \"Operation\": \"training\"}, \"Metrics\": {\"update.time\": {\"sum\": 390.37537574768066, \"count\": 1, \"min\": 390.37537574768066, \"max\": 390.37537574768066}}}\u001b[0m\n",
      "\u001b[34m[12/10/2024 03:53:43 INFO 140083293493056] #throughput_metric: host=algo-1, train throughput=796.0511648798016 records/second\u001b[0m\n",
      "\u001b[34m[12/10/2024 03:53:43 INFO 140083293493056] #progress_metric: host=algo-1, completed 4.0 % of epochs\u001b[0m\n",
      "\u001b[34m[12/10/2024 03:53:43 INFO 140083293493056] #quality_metric: host=algo-1, epoch=11, train loss <loss>=10.812491512298584\u001b[0m\n",
      "\u001b[34m[12/10/2024 03:53:43 INFO 140083293493056] loss did not improve\u001b[0m\n",
      "\u001b[34m[12/10/2024 03:53:43 INFO 140083293493056] Epoch[12] Batch[0] avg_epoch_loss=10.674288\u001b[0m\n",
      "\u001b[34m[12/10/2024 03:53:43 INFO 140083293493056] #quality_metric: host=algo-1, epoch=12, batch=0 train loss <loss>=10.674287796020508\u001b[0m\n",
      "\u001b[34m[12/10/2024 03:53:43 INFO 140083293493056] Epoch[12] Batch[5] avg_epoch_loss=10.792111\u001b[0m\n",
      "\u001b[34m[12/10/2024 03:53:43 INFO 140083293493056] #quality_metric: host=algo-1, epoch=12, batch=5 train loss <loss>=10.79211139678955\u001b[0m\n",
      "\u001b[34m[12/10/2024 03:53:43 INFO 140083293493056] Epoch[12] Batch [5]#011Speed: 1007.27 samples/sec#011loss=10.792111\u001b[0m\n",
      "\u001b[34m[12/10/2024 03:53:43 INFO 140083293493056] processed a total of 306 examples\u001b[0m\n",
      "\u001b[34m#metrics {\"StartTime\": 1733802823.4359748, \"EndTime\": 1733802823.8279293, \"Dimensions\": {\"Algorithm\": \"AWS/DeepAR\", \"Host\": \"algo-1\", \"Operation\": \"training\"}, \"Metrics\": {\"update.time\": {\"sum\": 391.5414810180664, \"count\": 1, \"min\": 391.5414810180664, \"max\": 391.5414810180664}}}\u001b[0m\n",
      "\u001b[34m[12/10/2024 03:53:43 INFO 140083293493056] #throughput_metric: host=algo-1, train throughput=781.3441663871348 records/second\u001b[0m\n",
      "\u001b[34m[12/10/2024 03:53:43 INFO 140083293493056] #progress_metric: host=algo-1, completed 4.333333333333333 % of epochs\u001b[0m\n",
      "\u001b[34m[12/10/2024 03:53:43 INFO 140083293493056] #quality_metric: host=algo-1, epoch=12, train loss <loss>=10.784194183349609\u001b[0m\n",
      "\u001b[34m[12/10/2024 03:53:43 INFO 140083293493056] loss did not improve\u001b[0m\n",
      "\u001b[34m[12/10/2024 03:53:43 INFO 140083293493056] Epoch[13] Batch[0] avg_epoch_loss=10.814290\u001b[0m\n",
      "\u001b[34m[12/10/2024 03:53:43 INFO 140083293493056] #quality_metric: host=algo-1, epoch=13, batch=0 train loss <loss>=10.814290046691895\u001b[0m\n",
      "\u001b[34m[12/10/2024 03:53:44 INFO 140083293493056] Epoch[13] Batch[5] avg_epoch_loss=10.698112\u001b[0m\n",
      "\u001b[34m[12/10/2024 03:53:44 INFO 140083293493056] #quality_metric: host=algo-1, epoch=13, batch=5 train loss <loss>=10.69811201095581\u001b[0m\n",
      "\u001b[34m[12/10/2024 03:53:44 INFO 140083293493056] Epoch[13] Batch [5]#011Speed: 1043.23 samples/sec#011loss=10.698112\u001b[0m\n",
      "\u001b[34m[12/10/2024 03:53:44 INFO 140083293493056] Epoch[13] Batch[10] avg_epoch_loss=10.585131\u001b[0m\n",
      "\u001b[34m[12/10/2024 03:53:44 INFO 140083293493056] #quality_metric: host=algo-1, epoch=13, batch=10 train loss <loss>=10.449553489685059\u001b[0m\n",
      "\u001b[34m[12/10/2024 03:53:44 INFO 140083293493056] Epoch[13] Batch [10]#011Speed: 1011.96 samples/sec#011loss=10.449553\u001b[0m\n",
      "\u001b[34m[12/10/2024 03:53:44 INFO 140083293493056] processed a total of 332 examples\u001b[0m\n",
      "\u001b[34m#metrics {\"StartTime\": 1733802823.827992, \"EndTime\": 1733802824.2424586, \"Dimensions\": {\"Algorithm\": \"AWS/DeepAR\", \"Host\": \"algo-1\", \"Operation\": \"training\"}, \"Metrics\": {\"update.time\": {\"sum\": 414.02149200439453, \"count\": 1, \"min\": 414.02149200439453, \"max\": 414.02149200439453}}}\u001b[0m\n",
      "\u001b[34m[12/10/2024 03:53:44 INFO 140083293493056] #throughput_metric: host=algo-1, train throughput=801.6299193424431 records/second\u001b[0m\n",
      "\u001b[34m[12/10/2024 03:53:44 INFO 140083293493056] #progress_metric: host=algo-1, completed 4.666666666666667 % of epochs\u001b[0m\n",
      "\u001b[34m[12/10/2024 03:53:44 INFO 140083293493056] #quality_metric: host=algo-1, epoch=13, train loss <loss>=10.58513086492365\u001b[0m\n",
      "\u001b[34m[12/10/2024 03:53:44 INFO 140083293493056] loss did not improve\u001b[0m\n",
      "\u001b[34m[12/10/2024 03:53:44 INFO 140083293493056] Epoch[14] Batch[0] avg_epoch_loss=10.716118\u001b[0m\n",
      "\u001b[34m[12/10/2024 03:53:44 INFO 140083293493056] #quality_metric: host=algo-1, epoch=14, batch=0 train loss <loss>=10.716117858886719\u001b[0m\n",
      "\u001b[34m[12/10/2024 03:53:44 INFO 140083293493056] Epoch[14] Batch[5] avg_epoch_loss=10.738566\u001b[0m\n",
      "\u001b[34m[12/10/2024 03:53:44 INFO 140083293493056] #quality_metric: host=algo-1, epoch=14, batch=5 train loss <loss>=10.738565762837728\u001b[0m\n",
      "\u001b[34m[12/10/2024 03:53:44 INFO 140083293493056] Epoch[14] Batch [5]#011Speed: 1020.62 samples/sec#011loss=10.738566\u001b[0m\n",
      "\u001b[34m[12/10/2024 03:53:44 INFO 140083293493056] Epoch[14] Batch[10] avg_epoch_loss=10.734187\u001b[0m\n",
      "\u001b[34m[12/10/2024 03:53:44 INFO 140083293493056] #quality_metric: host=algo-1, epoch=14, batch=10 train loss <loss>=10.728933143615723\u001b[0m\n",
      "\u001b[34m[12/10/2024 03:53:44 INFO 140083293493056] Epoch[14] Batch [10]#011Speed: 982.15 samples/sec#011loss=10.728933\u001b[0m\n",
      "\u001b[34m[12/10/2024 03:53:44 INFO 140083293493056] processed a total of 342 examples\u001b[0m\n",
      "\u001b[34m#metrics {\"StartTime\": 1733802824.2425644, \"EndTime\": 1733802824.6676831, \"Dimensions\": {\"Algorithm\": \"AWS/DeepAR\", \"Host\": \"algo-1\", \"Operation\": \"training\"}, \"Metrics\": {\"update.time\": {\"sum\": 424.82566833496094, \"count\": 1, \"min\": 424.82566833496094, \"max\": 424.82566833496094}}}\u001b[0m\n",
      "\u001b[34m[12/10/2024 03:53:44 INFO 140083293493056] #throughput_metric: host=algo-1, train throughput=804.8784550753929 records/second\u001b[0m\n",
      "\u001b[34m[12/10/2024 03:53:44 INFO 140083293493056] #progress_metric: host=algo-1, completed 5.0 % of epochs\u001b[0m\n",
      "\u001b[34m[12/10/2024 03:53:44 INFO 140083293493056] #quality_metric: host=algo-1, epoch=14, train loss <loss>=10.734187299554998\u001b[0m\n",
      "\u001b[34m[12/10/2024 03:53:44 INFO 140083293493056] loss did not improve\u001b[0m\n",
      "\u001b[34m[12/10/2024 03:53:44 INFO 140083293493056] Epoch[15] Batch[0] avg_epoch_loss=10.946998\u001b[0m\n",
      "\u001b[34m[12/10/2024 03:53:44 INFO 140083293493056] #quality_metric: host=algo-1, epoch=15, batch=0 train loss <loss>=10.94699764251709\u001b[0m\n",
      "\u001b[34m[12/10/2024 03:53:44 INFO 140083293493056] Epoch[15] Batch[5] avg_epoch_loss=10.752593\u001b[0m\n",
      "\u001b[34m[12/10/2024 03:53:44 INFO 140083293493056] #quality_metric: host=algo-1, epoch=15, batch=5 train loss <loss>=10.752593358357748\u001b[0m\n",
      "\u001b[34m[12/10/2024 03:53:44 INFO 140083293493056] Epoch[15] Batch [5]#011Speed: 1048.17 samples/sec#011loss=10.752593\u001b[0m\n",
      "\u001b[34m[12/10/2024 03:53:45 INFO 140083293493056] Epoch[15] Batch[10] avg_epoch_loss=10.762325\u001b[0m\n",
      "\u001b[34m[12/10/2024 03:53:45 INFO 140083293493056] #quality_metric: host=algo-1, epoch=15, batch=10 train loss <loss>=10.77400188446045\u001b[0m\n",
      "\u001b[34m[12/10/2024 03:53:45 INFO 140083293493056] Epoch[15] Batch [10]#011Speed: 957.35 samples/sec#011loss=10.774002\u001b[0m\n",
      "\u001b[34m[12/10/2024 03:53:45 INFO 140083293493056] processed a total of 347 examples\u001b[0m\n",
      "\u001b[34m#metrics {\"StartTime\": 1733802824.66774, \"EndTime\": 1733802825.0945492, \"Dimensions\": {\"Algorithm\": \"AWS/DeepAR\", \"Host\": \"algo-1\", \"Operation\": \"training\"}, \"Metrics\": {\"update.time\": {\"sum\": 426.51820182800293, \"count\": 1, \"min\": 426.51820182800293, \"max\": 426.51820182800293}}}\u001b[0m\n",
      "\u001b[34m[12/10/2024 03:53:45 INFO 140083293493056] #throughput_metric: host=algo-1, train throughput=813.4097481287239 records/second\u001b[0m\n",
      "\u001b[34m[12/10/2024 03:53:45 INFO 140083293493056] #progress_metric: host=algo-1, completed 5.333333333333333 % of epochs\u001b[0m\n",
      "\u001b[34m[12/10/2024 03:53:45 INFO 140083293493056] #quality_metric: host=algo-1, epoch=15, train loss <loss>=10.762324506586248\u001b[0m\n",
      "\u001b[34m[12/10/2024 03:53:45 INFO 140083293493056] loss did not improve\u001b[0m\n",
      "\u001b[34m[12/10/2024 03:53:45 INFO 140083293493056] Epoch[16] Batch[0] avg_epoch_loss=10.388420\u001b[0m\n",
      "\u001b[34m[12/10/2024 03:53:45 INFO 140083293493056] #quality_metric: host=algo-1, epoch=16, batch=0 train loss <loss>=10.388420104980469\u001b[0m\n",
      "\u001b[34m[12/10/2024 03:53:45 INFO 140083293493056] Epoch[16] Batch[5] avg_epoch_loss=10.526875\u001b[0m\n",
      "\u001b[34m[12/10/2024 03:53:45 INFO 140083293493056] #quality_metric: host=algo-1, epoch=16, batch=5 train loss <loss>=10.526875178019205\u001b[0m\n",
      "\u001b[34m[12/10/2024 03:53:45 INFO 140083293493056] Epoch[16] Batch [5]#011Speed: 1020.70 samples/sec#011loss=10.526875\u001b[0m\n",
      "\u001b[34m[12/10/2024 03:53:45 INFO 140083293493056] processed a total of 319 examples\u001b[0m\n",
      "\u001b[34m#metrics {\"StartTime\": 1733802825.0946052, \"EndTime\": 1733802825.4845443, \"Dimensions\": {\"Algorithm\": \"AWS/DeepAR\", \"Host\": \"algo-1\", \"Operation\": \"training\"}, \"Metrics\": {\"update.time\": {\"sum\": 389.6946907043457, \"count\": 1, \"min\": 389.6946907043457, \"max\": 389.6946907043457}}}\u001b[0m\n",
      "\u001b[34m[12/10/2024 03:53:45 INFO 140083293493056] #throughput_metric: host=algo-1, train throughput=818.4047852210608 records/second\u001b[0m\n",
      "\u001b[34m[12/10/2024 03:53:45 INFO 140083293493056] #progress_metric: host=algo-1, completed 5.666666666666667 % of epochs\u001b[0m\n",
      "\u001b[34m[12/10/2024 03:53:45 INFO 140083293493056] #quality_metric: host=algo-1, epoch=16, train loss <loss>=10.548261833190917\u001b[0m\n",
      "\u001b[34m[12/10/2024 03:53:45 INFO 140083293493056] loss did not improve\u001b[0m\n",
      "\u001b[34m[12/10/2024 03:53:45 INFO 140083293493056] Loading parameters from best epoch (6)\u001b[0m\n",
      "\u001b[34m#metrics {\"StartTime\": 1733802825.4846046, \"EndTime\": 1733802825.4884918, \"Dimensions\": {\"Algorithm\": \"AWS/DeepAR\", \"Host\": \"algo-1\", \"Operation\": \"training\"}, \"Metrics\": {\"state.deserialize.time\": {\"sum\": 3.4990310668945312, \"count\": 1, \"min\": 3.4990310668945312, \"max\": 3.4990310668945312}}}\u001b[0m\n",
      "\u001b[34m[12/10/2024 03:53:45 INFO 140083293493056] stopping training now\u001b[0m\n",
      "\u001b[34m[12/10/2024 03:53:45 INFO 140083293493056] #progress_metric: host=algo-1, completed 100 % of epochs\u001b[0m\n",
      "\u001b[34m[12/10/2024 03:53:45 INFO 140083293493056] Final loss: 10.440037207169967 (occurred at epoch 6)\u001b[0m\n",
      "\u001b[34m[12/10/2024 03:53:45 INFO 140083293493056] #quality_metric: host=algo-1, train final_loss <loss>=10.440037207169967\u001b[0m\n",
      "\u001b[34m[12/10/2024 03:53:45 INFO 140083293493056] Worker algo-1 finished training.\u001b[0m\n",
      "\u001b[34m[12/10/2024 03:53:45 WARNING 140083293493056] wait_for_all_workers will not sync workers since the kv store is not running distributed\u001b[0m\n",
      "\u001b[34m[12/10/2024 03:53:45 INFO 140083293493056] All workers finished. Serializing model for prediction.\u001b[0m\n",
      "\u001b[34m#metrics {\"StartTime\": 1733802825.488547, \"EndTime\": 1733802825.526516, \"Dimensions\": {\"Algorithm\": \"AWS/DeepAR\", \"Host\": \"algo-1\", \"Operation\": \"training\"}, \"Metrics\": {\"get_graph.time\": {\"sum\": 37.483930587768555, \"count\": 1, \"min\": 37.483930587768555, \"max\": 37.483930587768555}}}\u001b[0m\n",
      "\u001b[34m[12/10/2024 03:53:45 INFO 140083293493056] Number of GPUs being used: 0\u001b[0m\n",
      "\u001b[34m#metrics {\"StartTime\": 1733802825.526563, \"EndTime\": 1733802825.5450811, \"Dimensions\": {\"Algorithm\": \"AWS/DeepAR\", \"Host\": \"algo-1\", \"Operation\": \"training\"}, \"Metrics\": {\"finalize.time\": {\"sum\": 56.08558654785156, \"count\": 1, \"min\": 56.08558654785156, \"max\": 56.08558654785156}}}\u001b[0m\n",
      "\u001b[34m[12/10/2024 03:53:45 INFO 140083293493056] Serializing to /opt/ml/model/model_algo-1\u001b[0m\n",
      "\u001b[34m[12/10/2024 03:53:45 INFO 140083293493056] Saved checkpoint to \"/opt/ml/model/model_algo-1-0000.params\"\u001b[0m\n",
      "\u001b[34m#metrics {\"StartTime\": 1733802825.5451376, \"EndTime\": 1733802825.5482957, \"Dimensions\": {\"Algorithm\": \"AWS/DeepAR\", \"Host\": \"algo-1\", \"Operation\": \"training\"}, \"Metrics\": {\"model.serialize.time\": {\"sum\": 3.125429153442383, \"count\": 1, \"min\": 3.125429153442383, \"max\": 3.125429153442383}}}\u001b[0m\n",
      "\u001b[34m[12/10/2024 03:53:45 INFO 140083293493056] Successfully serialized the model for prediction.\u001b[0m\n",
      "\u001b[34m[12/10/2024 03:53:45 INFO 140083293493056] #memory_usage::<batchbuffer> = 0.89111328125 mb\u001b[0m\n",
      "\u001b[34m[12/10/2024 03:53:45 INFO 140083293493056] Evaluating model accuracy on testset using 100 samples\u001b[0m\n",
      "\u001b[34m#metrics {\"StartTime\": 1733802825.5483315, \"EndTime\": 1733802825.5513077, \"Dimensions\": {\"Algorithm\": \"AWS/DeepAR\", \"Host\": \"algo-1\", \"Operation\": \"training\"}, \"Metrics\": {\"model.bind.time\": {\"sum\": 0.0209808349609375, \"count\": 1, \"min\": 0.0209808349609375, \"max\": 0.0209808349609375}}}\u001b[0m\n",
      "\u001b[34m#metrics {\"StartTime\": 1733802825.551337, \"EndTime\": 1733802825.9435008, \"Dimensions\": {\"Algorithm\": \"AWS/DeepAR\", \"Host\": \"algo-1\", \"Operation\": \"training\"}, \"Metrics\": {\"model.score.time\": {\"sum\": 392.2092914581299, \"count\": 1, \"min\": 392.2092914581299, \"max\": 392.2092914581299}}}\u001b[0m\n",
      "\u001b[34m[12/10/2024 03:53:45 INFO 140083293493056] #test_score (algo-1, RMSE): 25868.764851344804\u001b[0m\n",
      "\u001b[34m[12/10/2024 03:53:45 INFO 140083293493056] #test_score (algo-1, mean_absolute_QuantileLoss): 7094578.8843617765\u001b[0m\n",
      "\u001b[34m[12/10/2024 03:53:45 INFO 140083293493056] #test_score (algo-1, mean_wQuantileLoss): 0.3758773447296948\u001b[0m\n",
      "\u001b[34m[12/10/2024 03:53:45 INFO 140083293493056] #test_score (algo-1, wQuantileLoss[0.1]): 0.3082420455757977\u001b[0m\n",
      "\u001b[34m[12/10/2024 03:53:45 INFO 140083293493056] #test_score (algo-1, wQuantileLoss[0.2]): 0.47659980602094304\u001b[0m\n",
      "\u001b[34m[12/10/2024 03:53:45 INFO 140083293493056] #test_score (algo-1, wQuantileLoss[0.3]): 0.5649228359138934\u001b[0m\n",
      "\u001b[34m[12/10/2024 03:53:45 INFO 140083293493056] #test_score (algo-1, wQuantileLoss[0.4]): 0.5789314967632687\u001b[0m\n",
      "\u001b[34m[12/10/2024 03:53:45 INFO 140083293493056] #test_score (algo-1, wQuantileLoss[0.5]): 0.5290187869853751\u001b[0m\n",
      "\u001b[34m[12/10/2024 03:53:45 INFO 140083293493056] #test_score (algo-1, wQuantileLoss[0.6]): 0.40712338942502674\u001b[0m\n",
      "\u001b[34m[12/10/2024 03:53:45 INFO 140083293493056] #test_score (algo-1, wQuantileLoss[0.7]): 0.24424898278370166\u001b[0m\n",
      "\u001b[34m[12/10/2024 03:53:45 INFO 140083293493056] #test_score (algo-1, wQuantileLoss[0.8]): 0.15069277480086887\u001b[0m\n",
      "\u001b[34m[12/10/2024 03:53:45 INFO 140083293493056] #test_score (algo-1, wQuantileLoss[0.9]): 0.12311598429837818\u001b[0m\n",
      "\u001b[34m[12/10/2024 03:53:45 INFO 140083293493056] #quality_metric: host=algo-1, test RMSE <loss>=25868.764851344804\u001b[0m\n",
      "\u001b[34m[12/10/2024 03:53:45 INFO 140083293493056] #quality_metric: host=algo-1, test mean_wQuantileLoss <loss>=0.3758773447296948\u001b[0m\n",
      "\u001b[34m#metrics {\"StartTime\": 1733802825.943599, \"EndTime\": 1733802825.9510834, \"Dimensions\": {\"Algorithm\": \"AWS/DeepAR\", \"Host\": \"algo-1\", \"Operation\": \"training\"}, \"Metrics\": {\"setuptime\": {\"sum\": 4.033327102661133, \"count\": 1, \"min\": 4.033327102661133, \"max\": 4.033327102661133}, \"totaltime\": {\"sum\": 8409.229516983032, \"count\": 1, \"min\": 8409.229516983032, \"max\": 8409.229516983032}}}\u001b[0m\n",
      "\n",
      "2024-12-10 03:54:03 Uploading - Uploading generated training model\n",
      "2024-12-10 03:54:03 Completed - Training job completed\n",
      "Training seconds: 261\n",
      "Billable seconds: 261\n"
     ]
    }
   ],
   "source": [
    "data_channels = {\"train\": train_path, \"test\": test_path}\n",
    "deepAR.fit(inputs=data_channels)"
   ]
  },
  {
   "cell_type": "markdown",
   "metadata": {},
   "source": [
    "## PE09-3 Predict & Evaluate Sales"
   ]
  },
  {
   "cell_type": "code",
   "execution_count": 11,
   "metadata": {},
   "outputs": [
    {
     "name": "stderr",
     "output_type": "stream",
     "text": [
      "INFO:sagemaker:Creating model with name: forecasting-deepar-2024-12-10-04-00-51-992\n",
      "INFO:sagemaker:Creating endpoint-config with name forecasting-deepar-2024-12-10-04-00-51-992\n",
      "INFO:sagemaker:Creating endpoint with name forecasting-deepar-2024-12-10-04-00-51-992\n"
     ]
    },
    {
     "name": "stdout",
     "output_type": "stream",
     "text": [
      "-----------!"
     ]
    }
   ],
   "source": [
    "deepAR_predictor = deepAR.deploy(initial_instance_count=1, instance_type='ml.m4.xlarge')"
   ]
  },
  {
   "cell_type": "code",
   "execution_count": 12,
   "metadata": {},
   "outputs": [
    {
     "name": "stdout",
     "output_type": "stream",
     "text": [
      "Predicted Sales:  [39330.79296875, 51159.421875, 35531.87890625, 33803.34765625, 45958.828125, 55291.38671875, 61247.90625, 45583.43359375, 61722.953125]\n",
      "Actual Sales:  [100422.86, 94987.08, 90889.75, 115695.71, 100372.02, 96616.19, 93460.57, 99398.64, 105059.88]\n"
     ]
    },
    {
     "data": {
      "image/png": "[encoded data removed]",
      "text/plain": [
       "<Figure size 640x480 with 1 Axes>"
      ]
     },
     "metadata": {},
     "output_type": "display_data"
    }
   ],
   "source": [
    "#Predict last 9 weeks of a department and compare to ground truth\n",
    "\n",
    "deepAR_predictor.content_type = 'application/json'\n",
    "dept = 90 \n",
    "\n",
    "prediction_data = da.salesinference.buildInferenceData(dept, trainingSet, testSet)\n",
    "#print(prediction_data)\n",
    "\n",
    "result = deepAR_predictor.predict(prediction_data)\n",
    "\n",
    "y_mean, y_q1, y_q2, y_sample = da.salesinference.getInferenceSeries(result)\n",
    "print(\"Predicted Sales: \", y_mean)\n",
    "print(\"Actual Sales: \", list(testSet[dept]['Weekly_Sales'][134:]))\n",
    "\n",
    "da.salesinference.plotResults(prediction_length, result, truth=True, truth_data=testSet[dept]['Weekly_Sales'][134:], truth_label='truth')"
   ]
  },
  {
   "cell_type": "code",
   "execution_count": null,
   "metadata": {},
   "outputs": [],
   "source": []
  }
 ],
 "metadata": {
  "kernelspec": {
   "display_name": "conda_python3",
   "language": "python",
   "name": "conda_python3"
  },
  "language_info": {
   "codemirror_mode": {
    "name": "ipython",
    "version": 3
   },
   "file_extension": ".py",
   "mimetype": "text/x-python",
   "name": "python",
   "nbconvert_exporter": "python",
   "pygments_lexer": "ipython3",
   "version": "3.10.15"
  }
 },
 "nbformat": 4,
 "nbformat_minor": 4
}
